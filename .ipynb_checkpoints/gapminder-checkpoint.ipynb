{
 "cells": [
  {
   "cell_type": "markdown",
   "id": "c724b4bf-7343-4355-9f1a-d4914b7533b9",
   "metadata": {},
   "source": [
    "Imports"
   ]
  },
  {
   "cell_type": "code",
   "execution_count": 14,
   "id": "5331d496-f976-4ea6-a963-512a5c695d70",
   "metadata": {},
   "outputs": [
    {
     "name": "stdout",
     "output_type": "stream",
     "text": [
      "pd: 0.25.3\n",
      "numpy: 1.17.4\n",
      "plt: 3.1.2\n"
     ]
    }
   ],
   "source": [
    "#import panda, numpy, matplotlib and display their versions\n",
    "import pandas as pd\n",
    "import numpy as np\n",
    "import matplotlib.pyplot as plt\n",
    "import matplotlib\n",
    "print(\"pd:\",pd.__version__)\n",
    "print(\"numpy:\",np.__version__)\n",
    "print(\"plt:\",matplotlib.__version__)\n",
    "from scipy import stats\n",
    "import math\n",
    "from IPython.display import display, HTML\n",
    "import statistics"
   ]
  },
  {
   "cell_type": "markdown",
   "id": "59ae2005-6c9f-4c0d-a7d2-1d219a7d152d",
   "metadata": {},
   "source": [
    "Some Tools, might be useful later"
   ]
  },
  {
   "cell_type": "code",
   "execution_count": 3,
   "id": "26a39ae5-614b-452d-95d6-ff2beef6a658",
   "metadata": {},
   "outputs": [],
   "source": [
    "# number converter, convert '1.43k' to '1430', '1.36M' to '1360000'\n",
    "def popsanalyze(s):\n",
    "    if(s[len(s)-1]=='M'):\n",
    "        return(int(float(s[0:len(s)-1])*math.pow(10,6)))\n",
    "    elif(s[len(s)-1]=='k'):\n",
    "        return(int(float(s[0:len(s)-1])*math.pow(10,3)))\n",
    "    elif(s[len(s)-1]=='B'):\n",
    "        return(int(float(s[0:len(s)-1])*math.pow(10,9)))\n",
    "    else:\n",
    "        return int(s)\n",
    "       \n",
    "# NaN values remover, kick the NaN values out of list\n",
    "def nanremove(l):\n",
    "    return([x for x in l if pd.isnull(x) == False and x != 'nan']) # stole from Internet, but pretty easy to write my own"
   ]
  },
  {
   "cell_type": "markdown",
   "id": "8f56760d-8d1b-4641-9596-98fa73ea1067",
   "metadata": {},
   "source": [
    "read the population data, only keep countries with more than 10M people, and add them to dt"
   ]
  },
  {
   "cell_type": "code",
   "execution_count": null,
   "id": "03bbcfcd-955c-4ce5-ac2c-587579afdc55",
   "metadata": {},
   "outputs": [],
   "source": [
    "#read population data file and construct a new Dataframe for later iteration\n",
    "popsdt = pd.read_csv(\"population_total.csv\")\n",
    "countrypops = pd.DataFrame(columns=['country','population'])\n",
    "\n",
    "#iterrate through rows and calculate population mean of recent 20 years\n",
    "for x in popsdt.iterrows():\n",
    "    #population data start with year 1799 at col=1, so (column index+1798) = actual data of the year\n",
    "    #output: list of country name at col=0, average population in recent 20 years(2002-2021)\n",
    "    pops = [];\n",
    "    for y in range(20):\n",
    "        pops.append(popsanalyze(x[1][2002-1798+y]))\n",
    "    average = int(statistics.mean(nanremove(pops)))\n",
    "    # print(x[1][0],average)\n",
    "    countrypops = countrypops.append({'country':x[1][0],'population':average}, ignore_index=True)\n",
    "    \n",
    "# Filter out country with population less than 10M\n",
    "countrypops = countrypops[countrypops['population']>(10*10**6)]\n",
    "countrypops = countrypops.set_index('country', drop=True)#set country names as index, drop the old index row\n",
    "print(countrypops)"
   ]
  },
  {
   "cell_type": "markdown",
   "id": "23d2d84e-6172-4842-87ca-27dc9acc2ede",
   "metadata": {},
   "source": [
    "Read the other four datasets and combine them all together"
   ]
  },
  {
   "cell_type": "code",
   "execution_count": 13,
   "id": "a2abff6f-b32e-476d-8526-c9362c83920d",
   "metadata": {},
   "outputs": [
    {
     "name": "stdout",
     "output_type": "stream",
     "text": [
      "             population  safe_avg  eff_avg  imp_avg  child_mort\n",
      "country                                                        \n",
      "Afghanistan    32034999      6.50     3.80     2.85     81.3700\n",
      "Argentina      42020000      3.00     2.10     0.85     12.9800\n",
      "Australia      22950000      6.15     4.20     3.40      4.4655\n",
      "Belgium        11090000     17.30     5.20     3.65      4.1980\n",
      "Burkina Faso   17025000     20.80     8.60     2.90    106.4300\n",
      "...                 ...       ...      ...      ...         ...\n",
      "Vietnam        90455000     14.50     4.10     1.05     22.5350\n",
      "Yemen          24905000      3.10     3.20     1.80     59.7750\n",
      "South Africa   53455000      9.40    10.35     5.55     50.0100\n",
      "Zambia         14959999     10.30     8.20     2.30     77.9600\n",
      "Zimbabwe       13375000      3.80     1.90     0.60     71.0800\n",
      "\n",
      "[78 rows x 5 columns]\n"
     ]
    }
   ],
   "source": [
    "# read the four datasets\n",
    "vcc_safe = pd.read_csv(\"vccin_sfty_dag.csv\") # percentage of parents who think vaccine is not safe\n",
    "vcc_effective = pd.read_csv(\"vccin_effect_dag.csv\") # percentage of parents who think vaccine is not effective\n",
    "vcc_important = pd.read_csv(\"vccin_imptn_dag.csv\") #  percentage of parents who think vaccine is not important\n",
    "child_mortdt = pd.read_csv(\"child_mortality.csv\") # number of children death before 5yo per 1000\n",
    "\n",
    "#set index to country and only read data from year 2014 and 2017, because the data are only on those two years.\n",
    "vcc_safe = vcc_safe.set_index('country')[['2014','2017']]\n",
    "vcc_effective = vcc_effective.set_index('country')[['2014','2017']]\n",
    "vcc_important = vcc_important.set_index('country')[['2014','2017']]\n",
    "\n",
    "#calculate the mean\n",
    "vcc_safe = vcc_safe.apply(lambda row: row.fillna(row.mean()), axis='columns')# this means: for each row under 'columns', apply this 'row:' function\n",
    "vcc_safe['safe_avg']=(vcc_safe['2014'] + vcc_safe['2017'])/2 # calculate the average\n",
    "vcc_effective = vcc_effective.apply(lambda row: row.fillna(row.mean()), axis='columns') # same for the other 2\n",
    "vcc_effective['eff_avg']=(vcc_effective['2014'] + vcc_effective['2017'])/2\n",
    "vcc_important = vcc_important.apply(lambda row: row.fillna(row.mean()), axis='columns')\n",
    "vcc_important['imp_avg']=(vcc_important['2014'] + vcc_important['2017'])/2\n",
    "\n",
    "#merge three lists, remove individual data columns\n",
    "vcc = pd.concat([vcc_safe,vcc_effective,vcc_important],axis='columns',join='inner',sort='false')\n",
    "vcc = vcc.drop(['2014','2017'],axis='columns')\n",
    "\n",
    "#combine countrypops and vcc\n",
    "dt = pd.DataFrame()\n",
    "dt = pd.concat([countrypops,vcc], join = 'inner', axis = 'columns')\n",
    "\n",
    "#add data from child mortality\n",
    "child_mort = pd.DataFrame(columns=['country','child_mort'])\n",
    "for x in child_mortdt.iterrows():\n",
    "    #child_mort data start with year 1799 at col=1, so (column index+1798) = actual data of the year\n",
    "    #output: list of country name at col=0, average population in recent 20 years(2002-2021)\n",
    "    child_mort_20y = [];\n",
    "    for y in range(20):\n",
    "        child_mort_20y.append(x[1][2002-1798+y])\n",
    "    average = statistics.mean(nanremove(child_mort_20y))\n",
    "    child_mort = child_mort.append({'country':x[1][0],'child_mort':average}, ignore_index=True)\n",
    "child_mort = child_mort.set_index('country', drop=True)#set country names as index, drop the old index row\n",
    "dt = pd.concat([dt,child_mort], join = 'inner', axis = 'columns')\n",
    "print(dt)"
   ]
  },
  {
   "cell_type": "code",
   "execution_count": null,
   "id": "a43c735f-408a-40b3-a702-62bafd873a3a",
   "metadata": {},
   "outputs": [],
   "source": [
    "\n"
   ]
  }
 ],
 "metadata": {
  "kernelspec": {
   "display_name": "Python 3 (ipykernel)",
   "language": "python",
   "name": "python3"
  },
  "language_info": {
   "codemirror_mode": {
    "name": "ipython",
    "version": 3
   },
   "file_extension": ".py",
   "mimetype": "text/x-python",
   "name": "python",
   "nbconvert_exporter": "python",
   "pygments_lexer": "ipython3",
   "version": "3.8.10"
  }
 },
 "nbformat": 4,
 "nbformat_minor": 5
}
