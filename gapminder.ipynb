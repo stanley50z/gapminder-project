{
 "cells": [
  {
   "cell_type": "code",
   "execution_count": 138,
   "id": "73f8889d-8387-4dda-ab6c-6fa503503cb0",
   "metadata": {},
   "outputs": [
    {
     "name": "stdout",
     "output_type": "stream",
     "text": [
      "pd: 0.25.3\n",
      "numpy: 1.17.4\n",
      "plt: 3.1.2\n"
     ]
    }
   ],
   "source": [
    "#import panda, numpy, matplotlib and their versions\n",
    "import pandas as pd\n",
    "import numpy as np\n",
    "import matplotlib.pyplot as plt\n",
    "import matplotlib\n",
    "print(\"pd:\",pd.__version__)\n",
    "print(\"numpy:\",np.__version__)\n",
    "print(\"plt:\",matplotlib.__version__)\n",
    "from scipy import stats\n",
    "import math\n",
    "from IPython.display import display, HTML\n",
    "import statistics"
   ]
  },
  {
   "cell_type": "code",
   "execution_count": 139,
   "id": "26a39ae5-614b-452d-95d6-ff2beef6a658",
   "metadata": {},
   "outputs": [],
   "source": [
    "# number converter, convert '1.43k' to '1430'\n",
    "def popsanalyze(s):\n",
    "    if(s[len(s)-1]=='M'):\n",
    "        return(int(float(s[0:len(s)-1])*math.pow(10,6)))\n",
    "    elif(s[len(s)-1]=='k'):\n",
    "        return(int(float(s[0:len(s)-1])*math.pow(10,3)))\n",
    "    elif(s[len(s)-1]=='B'):\n",
    "        return(int(float(s[0:len(s)-1])*math.pow(10,9)))\n",
    "    else:\n",
    "        return int(s)\n",
    "       \n",
    "# NaN values remover, kick the NaN values out of list\n",
    "def nanremove(l):\n",
    "    return([x for x in l if pd.isnull(x) == False and x != 'nan']) # stole from Internet, but pretty easy to write my own"
   ]
  },
  {
   "cell_type": "code",
   "execution_count": 140,
   "id": "8ecc280e-cb6f-40eb-be94-5d03fcb1e0ab",
   "metadata": {},
   "outputs": [
    {
     "name": "stdout",
     "output_type": "stream",
     "text": [
      "         country population\n",
      "0    Afghanistan   32034999\n",
      "1         Angola   25900000\n",
      "2      Argentina   42020000\n",
      "3      Australia   22950000\n",
      "4        Belgium   11090000\n",
      "..           ...        ...\n",
      "79       Vietnam   90455000\n",
      "80         Yemen   24905000\n",
      "81  South Africa   53455000\n",
      "82        Zambia   14959999\n",
      "83      Zimbabwe   13375000\n",
      "\n",
      "[84 rows x 2 columns]\n"
     ]
    }
   ],
   "source": [
    "# read the population data, only keep countries with more than 10M people, and add them to dt\n",
    "popsdt = pd.read_csv(\"population_total.csv\")\n",
    "countrypops = pd.DataFrame(columns=['country','population'])\n",
    "for x in popsdt.iterrows():\n",
    "    #population data start with year 1799 at col=1, so (column index+1798) = actual data of the year\n",
    "    #output: list of country name at col=0, average population in recent 20 years(2002-2021)\n",
    "    pops = [];\n",
    "    for y in range(20):\n",
    "        pops.append(popsanalyze(x[1][2002-1798+y]))\n",
    "    average = int(statistics.mean(pops))\n",
    "    # print(x[1][0],average)\n",
    "    countrypops = countrypops.append({'country':x[1][0],'population':average}, ignore_index=True)\n",
    "# print(countrypops)\n",
    "# Filter out country with population less than 10M\n",
    "dt = countrypops[countrypops['population']>(10*10**6)]\n",
    "dt = dt.reset_index(drop=True)#drop the old index row\n",
    "print(dt)"
   ]
  },
  {
   "cell_type": "code",
   "execution_count": 143,
   "id": "a2abff6f-b32e-476d-8526-c9362c83920d",
   "metadata": {},
   "outputs": [
    {
     "name": "stdout",
     "output_type": "stream",
     "text": [
      "                      2014  2017\n",
      "country                         \n",
      "Afghanistan            8.5   4.5\n",
      "Albania                NaN  15.8\n",
      "United Arab Emirates   NaN   4.4\n",
      "Argentina              1.2   4.8\n",
      "Armenia               21.6  20.6\n",
      "...                    ...   ...\n",
      "Vietnam               20.9   8.1\n",
      "Yemen                  NaN   3.1\n",
      "South Africa           9.8   9.0\n",
      "Zambia                 NaN  10.3\n",
      "Zimbabwe               NaN   3.8\n",
      "\n",
      "[146 rows x 2 columns]\n"
     ]
    }
   ],
   "source": [
    "# read the four datasets\n",
    "vcc_safe = pd.read_csv(\"vccin_sfty_dag.csv\") # percentage of parents who think vaccine is not safe\n",
    "vcc_effective = pd.read_csv(\"vccin_effect_dag.csv\") # percentage of parents who think vaccine is not effective\n",
    "vcc_important = pd.read_csv(\"vccin_imptn_dag.csv\") #  percentage of parents who think vaccine is not important\n",
    "child_mort = pd.read_csv(\"child_mortality.csv\") # number of children death before 5yo per 1000\n",
    "#set index to country and only read data from year 2014 and 2017, because the data are only on these two years.\n",
    "vcc_safe = vcc_safe.set_index('country')[['2014','2017']]\n",
    "vcc_effective = vcc_effective.set_index('country')[['2014','2017']]\n",
    "vcc_important = vcc_important.set_index('country')[['2014','2017']]\n",
    "#calculate the mean"
   ]
  },
  {
   "cell_type": "code",
   "execution_count": 142,
   "id": "a43c735f-408a-40b3-a702-62bafd873a3a",
   "metadata": {},
   "outputs": [
    {
     "name": "stdout",
     "output_type": "stream",
     "text": [
      "['Afghanistan', 'Angola', 'Argentina', 'Australia', 'Belgium', 'Burkina Faso', 'Bangladesh', 'Bolivia', 'Brazil', 'Canada', 'Chile', 'China', \"Cote d'Ivoire\", 'Cameroon', 'Congo, Dem. Rep.', 'Colombia', 'Cuba', 'Czech Republic', 'Germany', 'Algeria', 'Ecuador', 'Egypt', 'Spain', 'Ethiopia', 'France', 'United Kingdom', 'Ghana', 'Guinea', 'Greece', 'Guatemala', 'Haiti', 'Indonesia', 'India', 'Iran', 'Iraq', 'Italy', 'Japan', 'Kazakhstan', 'Kenya', 'Cambodia', 'South Korea', 'Sri Lanka', 'Morocco', 'Madagascar', 'Mexico', 'Mali', 'Myanmar', 'Mozambique', 'Malawi', 'Malaysia', 'Niger', 'Nigeria', 'Netherlands', 'Nepal', 'Pakistan', 'Peru', 'Philippines', 'Poland', 'North Korea', 'Portugal', 'Romania', 'Russia', 'Rwanda', 'Saudi Arabia', 'Sudan', 'Senegal', 'Somalia', 'Syria', 'Chad', 'Thailand', 'Tunisia', 'Turkey', 'Taiwan', 'Tanzania', 'Uganda', 'Ukraine', 'United States', 'Uzbekistan', 'Venezuela', 'Vietnam', 'Yemen', 'South Africa', 'Zambia', 'Zimbabwe']\n"
     ]
    },
    {
     "ename": "KeyError",
     "evalue": "\"None of [Index([('Afghanistan', 'Angola', 'Argentina', 'Australia', 'Belgium', 'Burkina Faso', 'Bangladesh', 'Bolivia', 'Brazil', 'Canada', 'Chile', 'China', 'Cote d'Ivoire', 'Cameroon', 'Congo, Dem. Rep.', 'Colombia', 'Cuba', 'Czech Republic', 'Germany', 'Algeria', 'Ecuador', 'Egypt', 'Spain', 'Ethiopia', 'France', 'United Kingdom', 'Ghana', 'Guinea', 'Greece', 'Guatemala', 'Haiti', 'Indonesia', 'India', 'Iran', 'Iraq', 'Italy', 'Japan', 'Kazakhstan', 'Kenya', 'Cambodia', 'South Korea', 'Sri Lanka', 'Morocco', 'Madagascar', 'Mexico', 'Mali', 'Myanmar', 'Mozambique', 'Malawi', 'Malaysia', 'Niger', 'Nigeria', 'Netherlands', 'Nepal', 'Pakistan', 'Peru', 'Philippines', 'Poland', 'North Korea', 'Portugal', 'Romania', 'Russia', 'Rwanda', 'Saudi Arabia', 'Sudan', 'Senegal', 'Somalia', 'Syria', 'Chad', 'Thailand', 'Tunisia', 'Turkey', 'Taiwan', 'Tanzania', 'Uganda', 'Ukraine', 'United States', 'Uzbekistan', 'Venezuela', 'Vietnam', 'Yemen', 'South Africa', 'Zambia', 'Zimbabwe')], dtype='object', name='country')] are in the [index]\"",
     "output_type": "error",
     "traceback": [
      "\u001b[0;31m---------------------------------------------------------------------------\u001b[0m",
      "\u001b[0;31mKeyError\u001b[0m                                  Traceback (most recent call last)",
      "Input \u001b[0;32mIn [142]\u001b[0m, in \u001b[0;36m<module>\u001b[0;34m\u001b[0m\n\u001b[1;32m      1\u001b[0m cty_list \u001b[38;5;241m=\u001b[39m dt[\u001b[38;5;124m\"\u001b[39m\u001b[38;5;124mcountry\u001b[39m\u001b[38;5;124m\"\u001b[39m]\u001b[38;5;241m.\u001b[39mvalues\u001b[38;5;241m.\u001b[39mtolist()\n\u001b[1;32m      2\u001b[0m \u001b[38;5;28mprint\u001b[39m(cty_list)\n\u001b[0;32m----> 3\u001b[0m dt2 \u001b[38;5;241m=\u001b[39m \u001b[43mvcc_safe\u001b[49m\u001b[38;5;241;43m.\u001b[39;49m\u001b[43mloc\u001b[49m\u001b[43m[\u001b[49m\u001b[43m[\u001b[49m\u001b[43mcty_list\u001b[49m\u001b[43m]\u001b[49m\u001b[43m]\u001b[49m\n",
      "File \u001b[0;32m/usr/lib/python3/dist-packages/pandas/core/indexing.py:1424\u001b[0m, in \u001b[0;36m_LocationIndexer.__getitem__\u001b[0;34m(self, key)\u001b[0m\n\u001b[1;32m   1421\u001b[0m axis \u001b[38;5;241m=\u001b[39m \u001b[38;5;28mself\u001b[39m\u001b[38;5;241m.\u001b[39maxis \u001b[38;5;129;01mor\u001b[39;00m \u001b[38;5;241m0\u001b[39m\n\u001b[1;32m   1423\u001b[0m maybe_callable \u001b[38;5;241m=\u001b[39m com\u001b[38;5;241m.\u001b[39mapply_if_callable(key, \u001b[38;5;28mself\u001b[39m\u001b[38;5;241m.\u001b[39mobj)\n\u001b[0;32m-> 1424\u001b[0m \u001b[38;5;28;01mreturn\u001b[39;00m \u001b[38;5;28;43mself\u001b[39;49m\u001b[38;5;241;43m.\u001b[39;49m\u001b[43m_getitem_axis\u001b[49m\u001b[43m(\u001b[49m\u001b[43mmaybe_callable\u001b[49m\u001b[43m,\u001b[49m\u001b[43m \u001b[49m\u001b[43maxis\u001b[49m\u001b[38;5;241;43m=\u001b[39;49m\u001b[43maxis\u001b[49m\u001b[43m)\u001b[49m\n",
      "File \u001b[0;32m/usr/lib/python3/dist-packages/pandas/core/indexing.py:1839\u001b[0m, in \u001b[0;36m_LocIndexer._getitem_axis\u001b[0;34m(self, key, axis)\u001b[0m\n\u001b[1;32m   1836\u001b[0m     \u001b[38;5;28;01mif\u001b[39;00m \u001b[38;5;28mhasattr\u001b[39m(key, \u001b[38;5;124m\"\u001b[39m\u001b[38;5;124mndim\u001b[39m\u001b[38;5;124m\"\u001b[39m) \u001b[38;5;129;01mand\u001b[39;00m key\u001b[38;5;241m.\u001b[39mndim \u001b[38;5;241m>\u001b[39m \u001b[38;5;241m1\u001b[39m:\n\u001b[1;32m   1837\u001b[0m         \u001b[38;5;28;01mraise\u001b[39;00m \u001b[38;5;167;01mValueError\u001b[39;00m(\u001b[38;5;124m\"\u001b[39m\u001b[38;5;124mCannot index with multidimensional key\u001b[39m\u001b[38;5;124m\"\u001b[39m)\n\u001b[0;32m-> 1839\u001b[0m     \u001b[38;5;28;01mreturn\u001b[39;00m \u001b[38;5;28;43mself\u001b[39;49m\u001b[38;5;241;43m.\u001b[39;49m\u001b[43m_getitem_iterable\u001b[49m\u001b[43m(\u001b[49m\u001b[43mkey\u001b[49m\u001b[43m,\u001b[49m\u001b[43m \u001b[49m\u001b[43maxis\u001b[49m\u001b[38;5;241;43m=\u001b[39;49m\u001b[43maxis\u001b[49m\u001b[43m)\u001b[49m\n\u001b[1;32m   1841\u001b[0m \u001b[38;5;66;03m# nested tuple slicing\u001b[39;00m\n\u001b[1;32m   1842\u001b[0m \u001b[38;5;28;01mif\u001b[39;00m is_nested_tuple(key, labels):\n",
      "File \u001b[0;32m/usr/lib/python3/dist-packages/pandas/core/indexing.py:1133\u001b[0m, in \u001b[0;36m_NDFrameIndexer._getitem_iterable\u001b[0;34m(self, key, axis)\u001b[0m\n\u001b[1;32m   1130\u001b[0m     \u001b[38;5;28;01mreturn\u001b[39;00m \u001b[38;5;28mself\u001b[39m\u001b[38;5;241m.\u001b[39mobj\u001b[38;5;241m.\u001b[39mtake(inds, axis\u001b[38;5;241m=\u001b[39maxis)\n\u001b[1;32m   1131\u001b[0m \u001b[38;5;28;01melse\u001b[39;00m:\n\u001b[1;32m   1132\u001b[0m     \u001b[38;5;66;03m# A collection of keys\u001b[39;00m\n\u001b[0;32m-> 1133\u001b[0m     keyarr, indexer \u001b[38;5;241m=\u001b[39m \u001b[38;5;28;43mself\u001b[39;49m\u001b[38;5;241;43m.\u001b[39;49m\u001b[43m_get_listlike_indexer\u001b[49m\u001b[43m(\u001b[49m\u001b[43mkey\u001b[49m\u001b[43m,\u001b[49m\u001b[43m \u001b[49m\u001b[43maxis\u001b[49m\u001b[43m,\u001b[49m\u001b[43m \u001b[49m\u001b[43mraise_missing\u001b[49m\u001b[38;5;241;43m=\u001b[39;49m\u001b[38;5;28;43;01mFalse\u001b[39;49;00m\u001b[43m)\u001b[49m\n\u001b[1;32m   1134\u001b[0m     \u001b[38;5;28;01mreturn\u001b[39;00m \u001b[38;5;28mself\u001b[39m\u001b[38;5;241m.\u001b[39mobj\u001b[38;5;241m.\u001b[39m_reindex_with_indexers(\n\u001b[1;32m   1135\u001b[0m         {axis: [keyarr, indexer]}, copy\u001b[38;5;241m=\u001b[39m\u001b[38;5;28;01mTrue\u001b[39;00m, allow_dups\u001b[38;5;241m=\u001b[39m\u001b[38;5;28;01mTrue\u001b[39;00m\n\u001b[1;32m   1136\u001b[0m     )\n",
      "File \u001b[0;32m/usr/lib/python3/dist-packages/pandas/core/indexing.py:1091\u001b[0m, in \u001b[0;36m_NDFrameIndexer._get_listlike_indexer\u001b[0;34m(self, key, axis, raise_missing)\u001b[0m\n\u001b[1;32m   1088\u001b[0m \u001b[38;5;28;01melse\u001b[39;00m:\n\u001b[1;32m   1089\u001b[0m     keyarr, indexer, new_indexer \u001b[38;5;241m=\u001b[39m ax\u001b[38;5;241m.\u001b[39m_reindex_non_unique(keyarr)\n\u001b[0;32m-> 1091\u001b[0m \u001b[38;5;28;43mself\u001b[39;49m\u001b[38;5;241;43m.\u001b[39;49m\u001b[43m_validate_read_indexer\u001b[49m\u001b[43m(\u001b[49m\n\u001b[1;32m   1092\u001b[0m \u001b[43m    \u001b[49m\u001b[43mkeyarr\u001b[49m\u001b[43m,\u001b[49m\u001b[43m \u001b[49m\u001b[43mindexer\u001b[49m\u001b[43m,\u001b[49m\u001b[43m \u001b[49m\u001b[43mo\u001b[49m\u001b[38;5;241;43m.\u001b[39;49m\u001b[43m_get_axis_number\u001b[49m\u001b[43m(\u001b[49m\u001b[43maxis\u001b[49m\u001b[43m)\u001b[49m\u001b[43m,\u001b[49m\u001b[43m \u001b[49m\u001b[43mraise_missing\u001b[49m\u001b[38;5;241;43m=\u001b[39;49m\u001b[43mraise_missing\u001b[49m\n\u001b[1;32m   1093\u001b[0m \u001b[43m\u001b[49m\u001b[43m)\u001b[49m\n\u001b[1;32m   1094\u001b[0m \u001b[38;5;28;01mreturn\u001b[39;00m keyarr, indexer\n",
      "File \u001b[0;32m/usr/lib/python3/dist-packages/pandas/core/indexing.py:1175\u001b[0m, in \u001b[0;36m_NDFrameIndexer._validate_read_indexer\u001b[0;34m(self, key, indexer, axis, raise_missing)\u001b[0m\n\u001b[1;32m   1173\u001b[0m \u001b[38;5;28;01mif\u001b[39;00m missing:\n\u001b[1;32m   1174\u001b[0m     \u001b[38;5;28;01mif\u001b[39;00m missing \u001b[38;5;241m==\u001b[39m \u001b[38;5;28mlen\u001b[39m(indexer):\n\u001b[0;32m-> 1175\u001b[0m         \u001b[38;5;28;01mraise\u001b[39;00m \u001b[38;5;167;01mKeyError\u001b[39;00m(\n\u001b[1;32m   1176\u001b[0m             \u001b[38;5;124m\"\u001b[39m\u001b[38;5;124mNone of [\u001b[39m\u001b[38;5;132;01m{key}\u001b[39;00m\u001b[38;5;124m] are in the [\u001b[39m\u001b[38;5;132;01m{axis}\u001b[39;00m\u001b[38;5;124m]\u001b[39m\u001b[38;5;124m\"\u001b[39m\u001b[38;5;241m.\u001b[39mformat(\n\u001b[1;32m   1177\u001b[0m                 key\u001b[38;5;241m=\u001b[39mkey, axis\u001b[38;5;241m=\u001b[39m\u001b[38;5;28mself\u001b[39m\u001b[38;5;241m.\u001b[39mobj\u001b[38;5;241m.\u001b[39m_get_axis_name(axis)\n\u001b[1;32m   1178\u001b[0m             )\n\u001b[1;32m   1179\u001b[0m         )\n\u001b[1;32m   1181\u001b[0m     \u001b[38;5;66;03m# We (temporarily) allow for some missing keys with .loc, except in\u001b[39;00m\n\u001b[1;32m   1182\u001b[0m     \u001b[38;5;66;03m# some cases (e.g. setting) in which \"raise_missing\" will be False\u001b[39;00m\n\u001b[1;32m   1183\u001b[0m     \u001b[38;5;28;01mif\u001b[39;00m \u001b[38;5;129;01mnot\u001b[39;00m (\u001b[38;5;28mself\u001b[39m\u001b[38;5;241m.\u001b[39mname \u001b[38;5;241m==\u001b[39m \u001b[38;5;124m\"\u001b[39m\u001b[38;5;124mloc\u001b[39m\u001b[38;5;124m\"\u001b[39m \u001b[38;5;129;01mand\u001b[39;00m \u001b[38;5;129;01mnot\u001b[39;00m raise_missing):\n",
      "\u001b[0;31mKeyError\u001b[0m: \"None of [Index([('Afghanistan', 'Angola', 'Argentina', 'Australia', 'Belgium', 'Burkina Faso', 'Bangladesh', 'Bolivia', 'Brazil', 'Canada', 'Chile', 'China', 'Cote d'Ivoire', 'Cameroon', 'Congo, Dem. Rep.', 'Colombia', 'Cuba', 'Czech Republic', 'Germany', 'Algeria', 'Ecuador', 'Egypt', 'Spain', 'Ethiopia', 'France', 'United Kingdom', 'Ghana', 'Guinea', 'Greece', 'Guatemala', 'Haiti', 'Indonesia', 'India', 'Iran', 'Iraq', 'Italy', 'Japan', 'Kazakhstan', 'Kenya', 'Cambodia', 'South Korea', 'Sri Lanka', 'Morocco', 'Madagascar', 'Mexico', 'Mali', 'Myanmar', 'Mozambique', 'Malawi', 'Malaysia', 'Niger', 'Nigeria', 'Netherlands', 'Nepal', 'Pakistan', 'Peru', 'Philippines', 'Poland', 'North Korea', 'Portugal', 'Romania', 'Russia', 'Rwanda', 'Saudi Arabia', 'Sudan', 'Senegal', 'Somalia', 'Syria', 'Chad', 'Thailand', 'Tunisia', 'Turkey', 'Taiwan', 'Tanzania', 'Uganda', 'Ukraine', 'United States', 'Uzbekistan', 'Venezuela', 'Vietnam', 'Yemen', 'South Africa', 'Zambia', 'Zimbabwe')], dtype='object', name='country')] are in the [index]\""
     ]
    }
   ],
   "source": [
    "cty_list = dt[\"country\"].values.tolist()\n",
    "print(cty_list)\n",
    "dt2 = vcc_safe.loc[[cty_list]]\n",
    "\n",
    "# for x in dt.iterrows():\n",
    "#     cty = x[1][0]\n",
    "    \n"
   ]
  }
 ],
 "metadata": {
  "kernelspec": {
   "display_name": "Python 3 (ipykernel)",
   "language": "python",
   "name": "python3"
  },
  "language_info": {
   "codemirror_mode": {
    "name": "ipython",
    "version": 3
   },
   "file_extension": ".py",
   "mimetype": "text/x-python",
   "name": "python",
   "nbconvert_exporter": "python",
   "pygments_lexer": "ipython3",
   "version": "3.8.10"
  }
 },
 "nbformat": 4,
 "nbformat_minor": 5
}
