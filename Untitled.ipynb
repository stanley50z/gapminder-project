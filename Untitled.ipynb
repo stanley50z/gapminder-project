{
 "cells": [
  {
   "cell_type": "code",
   "execution_count": 40,
   "id": "73f8889d-8387-4dda-ab6c-6fa503503cb0",
   "metadata": {},
   "outputs": [
    {
     "name": "stdout",
     "output_type": "stream",
     "text": [
      "pd: 0.25.3\n",
      "numpy: 1.17.4\n",
      "plt: 3.1.2\n"
     ]
    }
   ],
   "source": [
    "#import panda, numpy, matplotlib and their versions\n",
    "import pandas as pd\n",
    "import numpy as np\n",
    "import matplotlib.pyplot as plt\n",
    "import matplotlib\n",
    "print(\"pd:\",pd.__version__)\n",
    "print(\"numpy:\",np.__version__)\n",
    "print(\"plt:\",matplotlib.__version__)\n",
    "from scipy import stats\n",
    "import math\n",
    "from IPython.display import display, HTML\n",
    "import statistics"
   ]
  },
  {
   "cell_type": "code",
   "execution_count": 54,
   "id": "153b9745-7d2c-4e43-b21b-ba7a134be5af",
   "metadata": {},
   "outputs": [],
   "source": [
    "def popsanalyze(s):\n",
    "    if(s[len(s)-1]=='M'):\n",
    "        return(int(float(s[0:len(s)-1])*math.pow(10,6)))\n",
    "    elif(s[len(s)-1]=='k'):\n",
    "        return(int(float(s[0:len(s)-1])*math.pow(10,3)))\n",
    "       "
   ]
  },
  {
   "cell_type": "code",
   "execution_count": 56,
   "id": "8ecc280e-cb6f-40eb-be94-5d03fcb1e0ab",
   "metadata": {},
   "outputs": [],
   "source": [
    "dt = pd.read_csv(\"population_total.csv\")\n",
    "countrypops = pd.DataFrame(columns=[\"country\",\"population\"])\n",
    "for x in dt.iterrows():\n",
    "    #population data start with year 1799 at col=1, so (column index+1798) = actual data of the year\n",
    "    #output: list of country name at col=0, average population in recent 20 years(2002-2021)\n",
    "    pops = [];\n",
    "    for y in range(20):\n",
    "        pops.append(popsanalyze(x[1][2002-1798+y]))\n",
    "    \n",
    "    # average = statistics.mean(pops)\n",
    "    # countrypops.append({'country':x[1][0],'population':average})"
   ]
  },
  {
   "cell_type": "code",
   "execution_count": 57,
   "id": "a2abff6f-b32e-476d-8526-c9362c83920d",
   "metadata": {},
   "outputs": [
    {
     "data": {
      "text/plain": [
       "[12000000,\n",
       " 12000000,\n",
       " 12100000,\n",
       " 12200000,\n",
       " 12300000,\n",
       " 12400000,\n",
       " 12500000,\n",
       " 12700000,\n",
       " 12900000,\n",
       " 13100000,\n",
       " 13400000,\n",
       " 13600000,\n",
       " 13800000,\n",
       " 14000000,\n",
       " 14200000,\n",
       " 14400000,\n",
       " 14600000,\n",
       " 14900000,\n",
       " 15100000,\n",
       " 15300000]"
      ]
     },
     "execution_count": 57,
     "metadata": {},
     "output_type": "execute_result"
    }
   ],
   "source": []
  },
  {
   "cell_type": "code",
   "execution_count": null,
   "id": "a43c735f-408a-40b3-a702-62bafd873a3a",
   "metadata": {},
   "outputs": [],
   "source": []
  }
 ],
 "metadata": {
  "kernelspec": {
   "display_name": "Python 3 (ipykernel)",
   "language": "python",
   "name": "python3"
  },
  "language_info": {
   "codemirror_mode": {
    "name": "ipython",
    "version": 3
   },
   "file_extension": ".py",
   "mimetype": "text/x-python",
   "name": "python",
   "nbconvert_exporter": "python",
   "pygments_lexer": "ipython3",
   "version": "3.8.10"
  }
 },
 "nbformat": 4,
 "nbformat_minor": 5
}
