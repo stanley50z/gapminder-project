{
 "cells": [
  {
   "cell_type": "code",
   "execution_count": 138,
   "id": "73f8889d-8387-4dda-ab6c-6fa503503cb0",
   "metadata": {},
   "outputs": [
    {
     "name": "stdout",
     "output_type": "stream",
     "text": [
      "pd: 0.25.3\n",
      "numpy: 1.17.4\n",
      "plt: 3.1.2\n"
     ]
    }
   ],
   "source": [
    "#import panda, numpy, matplotlib and their versions\n",
    "import pandas as pd\n",
    "import numpy as np\n",
    "import matplotlib.pyplot as plt\n",
    "import matplotlib\n",
    "print(\"pd:\",pd.__version__)\n",
    "print(\"numpy:\",np.__version__)\n",
    "print(\"plt:\",matplotlib.__version__)\n",
    "from scipy import stats\n",
    "import math\n",
    "from IPython.display import display, HTML\n",
    "import statistics"
   ]
  },
  {
   "cell_type": "code",
   "execution_count": 139,
   "id": "26a39ae5-614b-452d-95d6-ff2beef6a658",
   "metadata": {},
   "outputs": [],
   "source": [
    "# number converter, convert '1.43k' to '1430'\n",
    "def popsanalyze(s):\n",
    "    if(s[len(s)-1]=='M'):\n",
    "        return(int(float(s[0:len(s)-1])*math.pow(10,6)))\n",
    "    elif(s[len(s)-1]=='k'):\n",
    "        return(int(float(s[0:len(s)-1])*math.pow(10,3)))\n",
    "    elif(s[len(s)-1]=='B'):\n",
    "        return(int(float(s[0:len(s)-1])*math.pow(10,9)))\n",
    "    else:\n",
    "        return int(s)\n",
    "       \n",
    "# NaN values remover, kick the NaN values out of list\n",
    "def nanremove(l):\n",
    "    return([x for x in l if pd.isnull(x) == False and x != 'nan']) # stole from Internet, but pretty easy to write my own"
   ]
  },
  {
   "cell_type": "code",
   "execution_count": 190,
   "id": "8ecc280e-cb6f-40eb-be94-5d03fcb1e0ab",
   "metadata": {},
   "outputs": [
    {
     "name": "stdout",
     "output_type": "stream",
     "text": [
      "         country population\n",
      "0    Afghanistan   32034999\n",
      "1         Angola   25900000\n",
      "2      Argentina   42020000\n",
      "3      Australia   22950000\n",
      "4        Belgium   11090000\n",
      "..           ...        ...\n",
      "79       Vietnam   90455000\n",
      "80         Yemen   24905000\n",
      "81  South Africa   53455000\n",
      "82        Zambia   14959999\n",
      "83      Zimbabwe   13375000\n",
      "\n",
      "[84 rows x 2 columns]\n",
      "Empty DataFrame\n",
      "Columns: []\n",
      "Index: [Afghanistan, Angola, Argentina, Australia, Belgium, Burkina Faso, Bangladesh, Bolivia, Brazil, Canada, Chile, China, Cote d'Ivoire, Cameroon, Congo, Dem. Rep., Colombia, Cuba, Czech Republic, Germany, Algeria, Ecuador, Egypt, Spain, Ethiopia, France, United Kingdom, Ghana, Guinea, Greece, Guatemala, Haiti, Indonesia, India, Iran, Iraq, Italy, Japan, Kazakhstan, Kenya, Cambodia, South Korea, Sri Lanka, Morocco, Madagascar, Mexico, Mali, Myanmar, Mozambique, Malawi, Malaysia, Niger, Nigeria, Netherlands, Nepal, Pakistan, Peru, Philippines, Poland, North Korea, Portugal, Romania, Russia, Rwanda, Saudi Arabia, Sudan, Senegal, Somalia, Syria, Chad, Thailand, Tunisia, Turkey, Taiwan, Tanzania, Uganda, Ukraine, United States, Uzbekistan, Venezuela, Vietnam, Yemen, South Africa, Zambia, Zimbabwe]\n",
      "\n",
      "[84 rows x 0 columns]\n"
     ]
    }
   ],
   "source": [
    "# read the population data, only keep countries with more than 10M people, and add them to dt\n",
    "popsdt = pd.read_csv(\"population_total.csv\")\n",
    "countrypops = pd.DataFrame(columns=['country','population'])\n",
    "for x in popsdt.iterrows():\n",
    "    #population data start with year 1799 at col=1, so (column index+1798) = actual data of the year\n",
    "    #output: list of country name at col=0, average population in recent 20 years(2002-2021)\n",
    "    pops = [];\n",
    "    for y in range(20):\n",
    "        pops.append(popsanalyze(x[1][2002-1798+y]))\n",
    "    average = int(statistics.mean(nanremove(pops)))\n",
    "    # print(x[1][0],average)\n",
    "    countrypops = countrypops.append({'country':x[1][0],'population':average}, ignore_index=True)\n",
    "# print(countrypops)\n",
    "# Filter out country with population less than 10M\n",
    "dt = countrypops[countrypops['population']>(10*10**6)]\n",
    "dt = dt.reset_index(drop=True)#drop the old index row\n",
    "# print(dt)\n",
    "cty_list = pd.DataFrame(dt[\"country\"]).set_index('country',drop=True) # dt[] return list, convert back to pd.dataframe and set 'country' as index\n",
    "#at this point, cty_list is an empty dataframe with index of country names after filtered by population\n",
    "# print(cty_list)"
   ]
  },
  {
   "cell_type": "code",
   "execution_count": 197,
   "id": "a2abff6f-b32e-476d-8526-c9362c83920d",
   "metadata": {},
   "outputs": [
    {
     "name": "stdout",
     "output_type": "stream",
     "text": [
      "             safe_avg  eff_avg  imp_avg\n",
      "country                                \n",
      "Afghanistan       6.5     3.80     2.85\n",
      "Albania          15.8     9.00     1.70\n",
      "Algeria           7.9     7.75     2.50\n",
      "Argentina         3.0     2.10     0.85\n",
      "Armenia          21.1    13.20     9.90\n",
      "...               ...      ...      ...\n",
      "Venezuela         4.1     2.50     0.10\n",
      "Vietnam          14.5     4.10     1.05\n",
      "Yemen             3.1     3.20     1.80\n",
      "Zambia           10.3     8.20     2.30\n",
      "Zimbabwe          3.8     1.90     0.60\n",
      "\n",
      "[146 rows x 3 columns]\n",
      "             safe_avg  eff_avg  imp_avg\n",
      "country                                \n",
      "Afghanistan      6.50     3.80     2.85\n",
      "Algeria          7.90     7.75     2.50\n",
      "Argentina        3.00     2.10     0.85\n",
      "Australia        6.15     4.20     3.40\n",
      "Bangladesh       0.55     2.75     0.35\n",
      "...               ...      ...      ...\n",
      "Venezuela        4.10     2.50     0.10\n",
      "Vietnam         14.50     4.10     1.05\n",
      "Yemen            3.10     3.20     1.80\n",
      "Zambia          10.30     8.20     2.30\n",
      "Zimbabwe         3.80     1.90     0.60\n",
      "\n",
      "[78 rows x 3 columns]\n"
     ]
    }
   ],
   "source": [
    "# read the four datasets\n",
    "vcc_safe = pd.read_csv(\"vccin_sfty_dag.csv\") # percentage of parents who think vaccine is not safe\n",
    "vcc_effective = pd.read_csv(\"vccin_effect_dag.csv\") # percentage of parents who think vaccine is not effective\n",
    "vcc_important = pd.read_csv(\"vccin_imptn_dag.csv\") #  percentage of parents who think vaccine is not important\n",
    "child_mort = pd.read_csv(\"child_mortality.csv\") # number of children death before 5yo per 1000\n",
    "#set index to country and only read data from year 2014 and 2017, because the data are only on those two years.\n",
    "vcc_safe = vcc_safe.set_index('country')[['2014','2017']]\n",
    "vcc_effective = vcc_effective.set_index('country')[['2014','2017']]\n",
    "vcc_important = vcc_important.set_index('country')[['2014','2017']]\n",
    "#calculate the mean\n",
    "vcc_safe = vcc_safe.apply(lambda row: row.fillna(row.mean()), axis='columns')# this means: for each row under 'columns', apply this 'row:' function\n",
    "vcc_safe['safe_avg']=(vcc_safe['2014'] + vcc_safe['2017'])/2 # calculate the average\n",
    "vcc_effective = vcc_effective.apply(lambda row: row.fillna(row.mean()), axis='columns') # same for the other 2\n",
    "vcc_effective['eff_avg']=(vcc_effective['2014'] + vcc_effective['2017'])/2\n",
    "vcc_important = vcc_important.apply(lambda row: row.fillna(row.mean()), axis='columns')\n",
    "vcc_important['imp_avg']=(vcc_important['2014'] + vcc_important['2017'])/2\n",
    "#merge three lists, remove individual data columns\n",
    "dt = pd.concat([vcc_safe,vcc_effective,vcc_important],axis='columns',join='inner',sort='false')\n",
    "dt = dt.drop(['2014','2017'],axis='columns')\n",
    "print(dt)\n",
    "#only those in cty_list remain\n",
    "dt = pd.concat([dt,cty_list], join='inner',axis=1)\n",
    "print(dt)"
   ]
  },
  {
   "cell_type": "code",
   "execution_count": 144,
   "id": "a43c735f-408a-40b3-a702-62bafd873a3a",
   "metadata": {},
   "outputs": [
    {
     "name": "stdout",
     "output_type": "stream",
     "text": [
      "['Afghanistan', 'Angola', 'Argentina', 'Australia', 'Belgium', 'Burkina Faso', 'Bangladesh', 'Bolivia', 'Brazil', 'Canada', 'Chile', 'China', \"Cote d'Ivoire\", 'Cameroon', 'Congo, Dem. Rep.', 'Colombia', 'Cuba', 'Czech Republic', 'Germany', 'Algeria', 'Ecuador', 'Egypt', 'Spain', 'Ethiopia', 'France', 'United Kingdom', 'Ghana', 'Guinea', 'Greece', 'Guatemala', 'Haiti', 'Indonesia', 'India', 'Iran', 'Iraq', 'Italy', 'Japan', 'Kazakhstan', 'Kenya', 'Cambodia', 'South Korea', 'Sri Lanka', 'Morocco', 'Madagascar', 'Mexico', 'Mali', 'Myanmar', 'Mozambique', 'Malawi', 'Malaysia', 'Niger', 'Nigeria', 'Netherlands', 'Nepal', 'Pakistan', 'Peru', 'Philippines', 'Poland', 'North Korea', 'Portugal', 'Romania', 'Russia', 'Rwanda', 'Saudi Arabia', 'Sudan', 'Senegal', 'Somalia', 'Syria', 'Chad', 'Thailand', 'Tunisia', 'Turkey', 'Taiwan', 'Tanzania', 'Uganda', 'Ukraine', 'United States', 'Uzbekistan', 'Venezuela', 'Vietnam', 'Yemen', 'South Africa', 'Zambia', 'Zimbabwe']\n"
     ]
    }
   ],
   "source": [
    "cty_list = dt[\"country\"].values.tolist()\n",
    "print(cty_list)\n",
    "# dt2 = vcc_safe.loc[[cty_list]]\n",
    "\n",
    "# for x in dt.iterrows():\n",
    "#     cty = x[1][0]\n",
    "    \n"
   ]
  }
 ],
 "metadata": {
  "kernelspec": {
   "display_name": "Python 3 (ipykernel)",
   "language": "python",
   "name": "python3"
  },
  "language_info": {
   "codemirror_mode": {
    "name": "ipython",
    "version": 3
   },
   "file_extension": ".py",
   "mimetype": "text/x-python",
   "name": "python",
   "nbconvert_exporter": "python",
   "pygments_lexer": "ipython3",
   "version": "3.8.10"
  }
 },
 "nbformat": 4,
 "nbformat_minor": 5
}
