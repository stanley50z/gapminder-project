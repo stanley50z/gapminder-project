{
 "cells": [
  {
   "cell_type": "code",
   "execution_count": 1,
   "id": "73f8889d-8387-4dda-ab6c-6fa503503cb0",
   "metadata": {},
   "outputs": [
    {
     "name": "stdout",
     "output_type": "stream",
     "text": [
      "pd: 0.25.3\n",
      "numpy: 1.17.4\n",
      "plt: 3.1.2\n"
     ]
    }
   ],
   "source": [
    "import pandas as pd\n",
    "import numpy as np\n",
    "import matplotlib.pyplot as plt\n",
    "import matplotlib\n",
    "print(\"pd:\",pd.__version__)\n",
    "print(\"numpy:\",np.__version__)\n",
    "print(\"plt:\",matplotlib.__version__)\n",
    "from scipy import stats\n",
    "import math"
   ]
  },
  {
   "cell_type": "code",
   "execution_count": 2,
   "id": "8ecc280e-cb6f-40eb-be94-5d03fcb1e0ab",
   "metadata": {},
   "outputs": [
    {
     "name": "stdout",
     "output_type": "stream",
     "text": [
      "                  country   1799   1800   1801   1802   1803   1804   1805  \\\n",
      "0             Afghanistan  3.28M  3.28M  3.28M  3.28M  3.28M  3.28M  3.28M   \n",
      "1                  Angola  1.57M  1.57M  1.57M  1.57M  1.57M  1.57M  1.57M   \n",
      "2                 Albania   400k   402k   404k   405k   407k   409k   411k   \n",
      "3                 Andorra   2650   2650   2650   2650   2650   2650   2650   \n",
      "4    United Arab Emirates  40.2k  40.2k  40.2k  40.2k  40.2k  40.2k  40.2k   \n",
      "..                    ...    ...    ...    ...    ...    ...    ...    ...   \n",
      "192                 Samoa  47.3k  47.3k  47.3k  47.3k  47.3k  47.3k  47.3k   \n",
      "193                 Yemen  2.59M  2.59M  2.59M  2.59M  2.59M  2.59M  2.59M   \n",
      "194          South Africa  1.45M  1.45M  1.46M  1.46M  1.47M  1.47M  1.48M   \n",
      "195                Zambia   747k   758k   770k   782k   794k   806k   818k   \n",
      "196              Zimbabwe  1.09M  1.09M  1.09M  1.09M  1.09M  1.09M  1.09M   \n",
      "\n",
      "      1806   1807  ...   2090   2091   2092   2093   2094   2095   2096  \\\n",
      "0    3.28M  3.28M  ...  76.6M  76.4M  76.3M  76.1M    76M  75.8M  75.6M   \n",
      "1    1.57M  1.57M  ...   168M   170M   172M   175M   177M   179M   182M   \n",
      "2     413k   414k  ...  1.33M   1.3M  1.27M  1.25M  1.22M  1.19M  1.17M   \n",
      "3     2650   2650  ...    63k  62.9k  62.9k  62.8k  62.7k  62.7k  62.6k   \n",
      "4    40.2k  40.2k  ...  12.3M  12.4M  12.5M  12.5M  12.6M  12.7M  12.7M   \n",
      "..     ...    ...  ...    ...    ...    ...    ...    ...    ...    ...   \n",
      "192  47.2k  47.2k  ...   315k   314k   314k   314k   313k   313k   312k   \n",
      "193  2.59M  2.59M  ...  54.5M  54.4M  54.3M  54.1M    54M  53.8M  53.7M   \n",
      "194  1.49M  1.49M  ...  79.8M  79.8M  79.7M  79.7M  79.6M  79.5M  79.5M   \n",
      "195   831k   843k  ...  74.4M  75.2M    76M  76.8M  77.6M  78.4M  79.2M   \n",
      "196  1.09M  1.09M  ...  30.8M  30.9M  30.9M  30.9M  30.9M  30.9M    31M   \n",
      "\n",
      "      2097   2098   2099  \n",
      "0    75.4M  75.2M  74.9M  \n",
      "1     184M   186M   188M  \n",
      "2    1.14M  1.11M  1.09M  \n",
      "3    62.5k  62.5k  62.4k  \n",
      "4    12.8M  12.8M  12.9M  \n",
      "..     ...    ...    ...  \n",
      "192   312k   311k   310k  \n",
      "193  53.5M  53.4M  53.2M  \n",
      "194  79.4M  79.3M  79.2M  \n",
      "195    80M  80.8M  81.5M  \n",
      "196    31M    31M    31M  \n",
      "\n",
      "[197 rows x 302 columns]\n"
     ]
    }
   ],
   "source": [
    "dt = pd.read_csv(\"population_total.csv\")\n",
    "print(dt)"
   ]
  }
 ],
 "metadata": {
  "kernelspec": {
   "display_name": "Python 3 (ipykernel)",
   "language": "python",
   "name": "python3"
  },
  "language_info": {
   "codemirror_mode": {
    "name": "ipython",
    "version": 3
   },
   "file_extension": ".py",
   "mimetype": "text/x-python",
   "name": "python",
   "nbconvert_exporter": "python",
   "pygments_lexer": "ipython3",
   "version": "3.8.10"
  }
 },
 "nbformat": 4,
 "nbformat_minor": 5
}
